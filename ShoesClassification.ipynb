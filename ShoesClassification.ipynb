{
  "nbformat": 4,
  "nbformat_minor": 0,
  "metadata": {
    "colab": {
      "name": "Sthelse.ipynb",
      "provenance": [],
      "collapsed_sections": [],
      "authorship_tag": "ABX9TyPGQ+t04Veup6Hfh3y0EIJl",
      "include_colab_link": true
    },
    "kernelspec": {
      "name": "python3",
      "display_name": "Python 3"
    },
    "widgets": {
      "application/vnd.jupyter.widget-state+json": {
        "a38cf1b51bc841629bd62040f5590878": {
          "model_module": "@jupyter-widgets/controls",
          "model_name": "VBoxModel",
          "state": {
            "_view_name": "VBoxView",
            "_dom_classes": [],
            "_model_name": "VBoxModel",
            "_view_module": "@jupyter-widgets/controls",
            "_model_module_version": "1.5.0",
            "_view_count": null,
            "_view_module_version": "1.5.0",
            "box_style": "",
            "layout": "IPY_MODEL_02eabf281c4a43ebb4ae4a8e5506955c",
            "_model_module": "@jupyter-widgets/controls",
            "children": [
              "IPY_MODEL_35d16226bda84023a0bb5dc25fe9ff85",
              "IPY_MODEL_b6aa315253d445ed98381ae08ee27b4e",
              "IPY_MODEL_d7b7e13b7ee941baba46186b4e0bb601",
              "IPY_MODEL_14c51ce539fa4363b3753d466c56c334",
              "IPY_MODEL_a4ac90d79ed542bd876d8ced0f7933a0"
            ]
          }
        },
        "02eabf281c4a43ebb4ae4a8e5506955c": {
          "model_module": "@jupyter-widgets/base",
          "model_name": "LayoutModel",
          "state": {
            "_view_name": "LayoutView",
            "grid_template_rows": null,
            "right": null,
            "justify_content": null,
            "_view_module": "@jupyter-widgets/base",
            "overflow": null,
            "_model_module_version": "1.2.0",
            "_view_count": null,
            "flex_flow": null,
            "width": null,
            "min_width": null,
            "border": null,
            "align_items": null,
            "bottom": null,
            "_model_module": "@jupyter-widgets/base",
            "top": null,
            "grid_column": null,
            "overflow_y": null,
            "overflow_x": null,
            "grid_auto_flow": null,
            "grid_area": null,
            "grid_template_columns": null,
            "flex": null,
            "_model_name": "LayoutModel",
            "justify_items": null,
            "grid_row": null,
            "max_height": null,
            "align_content": null,
            "visibility": null,
            "align_self": null,
            "height": null,
            "min_height": null,
            "padding": null,
            "grid_auto_rows": null,
            "grid_gap": null,
            "max_width": null,
            "order": null,
            "_view_module_version": "1.2.0",
            "grid_template_areas": null,
            "object_position": null,
            "object_fit": null,
            "grid_auto_columns": null,
            "margin": null,
            "display": null,
            "left": null
          }
        },
        "35d16226bda84023a0bb5dc25fe9ff85": {
          "model_module": "@jupyter-widgets/controls",
          "model_name": "LabelModel",
          "state": {
            "_view_name": "LabelView",
            "style": "IPY_MODEL_b9f14549568d42478a09c2ad339047d4",
            "_dom_classes": [],
            "description": "",
            "_model_name": "LabelModel",
            "placeholder": "​",
            "_view_module": "@jupyter-widgets/controls",
            "_model_module_version": "1.5.0",
            "value": "Select your bear!",
            "_view_count": null,
            "_view_module_version": "1.5.0",
            "description_tooltip": null,
            "_model_module": "@jupyter-widgets/controls",
            "layout": "IPY_MODEL_50a1e3e066124dd3a39b3854419748c5"
          }
        },
        "b6aa315253d445ed98381ae08ee27b4e": {
          "model_module": "@jupyter-widgets/controls",
          "model_name": "FileUploadModel",
          "state": {
            "_view_name": "FileUploadView",
            "_counter": 1,
            "style": "IPY_MODEL_561dab6b9fc84e1aaa58a7e4b13f444e",
            "_dom_classes": [],
            "description": "Upload",
            "multiple": false,
            "_model_name": "FileUploadModel",
            "data": [
              null
            ],
            "button_style": "",
            "_view_module": "@jupyter-widgets/controls",
            "_model_module_version": "1.5.0",
            "accept": "",
            "_view_count": null,
            "disabled": false,
            "_view_module_version": "1.5.0",
            "error": "",
            "description_tooltip": null,
            "metadata": [
              {
                "name": "쯩사.jpg",
                "type": "image/jpeg",
                "size": 1200436,
                "lastModified": 1606489637832
              }
            ],
            "_model_module": "@jupyter-widgets/controls",
            "layout": "IPY_MODEL_1ad2b7f161d140f4ab24855146d90d8e",
            "icon": "upload"
          }
        },
        "d7b7e13b7ee941baba46186b4e0bb601": {
          "model_module": "@jupyter-widgets/controls",
          "model_name": "ButtonModel",
          "state": {
            "_view_name": "ButtonView",
            "style": "IPY_MODEL_670eda7ae8ce4a0096a0ebb5b10b2941",
            "_dom_classes": [],
            "description": "Classify",
            "_model_name": "ButtonModel",
            "button_style": "",
            "_view_module": "@jupyter-widgets/controls",
            "_model_module_version": "1.5.0",
            "tooltip": "",
            "_view_count": null,
            "disabled": false,
            "_view_module_version": "1.5.0",
            "layout": "IPY_MODEL_d43118778f584cd3bff02fd1429ae9b4",
            "_model_module": "@jupyter-widgets/controls",
            "icon": ""
          }
        },
        "14c51ce539fa4363b3753d466c56c334": {
          "model_module": "@jupyter-widgets/output",
          "model_name": "OutputModel",
          "state": {
            "_view_name": "OutputView",
            "msg_id": "",
            "_dom_classes": [],
            "_model_name": "OutputModel",
            "outputs": [
              {
                "output_type": "display_data",
                "metadata": {
                  "tags": []
                },
                "image/png": "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\n",
                "text/plain": "<PIL.Image.Image image mode=RGB size=128x128 at 0x7FF51647AFD0>"
              }
            ],
            "_view_module": "@jupyter-widgets/output",
            "_model_module_version": "1.0.0",
            "_view_count": null,
            "_view_module_version": "1.0.0",
            "layout": "IPY_MODEL_35fd876673524b65a1623069457cd546",
            "_model_module": "@jupyter-widgets/output"
          }
        },
        "a4ac90d79ed542bd876d8ced0f7933a0": {
          "model_module": "@jupyter-widgets/controls",
          "model_name": "LabelModel",
          "state": {
            "_view_name": "LabelView",
            "style": "IPY_MODEL_83d81343cedb470888b9d33458d78fff",
            "_dom_classes": [],
            "description": "",
            "_model_name": "LabelModel",
            "placeholder": "​",
            "_view_module": "@jupyter-widgets/controls",
            "_model_module_version": "1.5.0",
            "value": "Prediction: teddy; Probability: 0.9994",
            "_view_count": null,
            "_view_module_version": "1.5.0",
            "description_tooltip": null,
            "_model_module": "@jupyter-widgets/controls",
            "layout": "IPY_MODEL_260a7cca6c7a4b839e536e9017c1e4ec"
          }
        },
        "b9f14549568d42478a09c2ad339047d4": {
          "model_module": "@jupyter-widgets/controls",
          "model_name": "DescriptionStyleModel",
          "state": {
            "_view_name": "StyleView",
            "_model_name": "DescriptionStyleModel",
            "description_width": "",
            "_view_module": "@jupyter-widgets/base",
            "_model_module_version": "1.5.0",
            "_view_count": null,
            "_view_module_version": "1.2.0",
            "_model_module": "@jupyter-widgets/controls"
          }
        },
        "50a1e3e066124dd3a39b3854419748c5": {
          "model_module": "@jupyter-widgets/base",
          "model_name": "LayoutModel",
          "state": {
            "_view_name": "LayoutView",
            "grid_template_rows": null,
            "right": null,
            "justify_content": null,
            "_view_module": "@jupyter-widgets/base",
            "overflow": null,
            "_model_module_version": "1.2.0",
            "_view_count": null,
            "flex_flow": null,
            "width": null,
            "min_width": null,
            "border": null,
            "align_items": null,
            "bottom": null,
            "_model_module": "@jupyter-widgets/base",
            "top": null,
            "grid_column": null,
            "overflow_y": null,
            "overflow_x": null,
            "grid_auto_flow": null,
            "grid_area": null,
            "grid_template_columns": null,
            "flex": null,
            "_model_name": "LayoutModel",
            "justify_items": null,
            "grid_row": null,
            "max_height": null,
            "align_content": null,
            "visibility": null,
            "align_self": null,
            "height": null,
            "min_height": null,
            "padding": null,
            "grid_auto_rows": null,
            "grid_gap": null,
            "max_width": null,
            "order": null,
            "_view_module_version": "1.2.0",
            "grid_template_areas": null,
            "object_position": null,
            "object_fit": null,
            "grid_auto_columns": null,
            "margin": null,
            "display": null,
            "left": null
          }
        },
        "561dab6b9fc84e1aaa58a7e4b13f444e": {
          "model_module": "@jupyter-widgets/controls",
          "model_name": "ButtonStyleModel",
          "state": {
            "_view_name": "StyleView",
            "_model_name": "ButtonStyleModel",
            "_view_module": "@jupyter-widgets/base",
            "_model_module_version": "1.5.0",
            "_view_count": null,
            "button_color": null,
            "font_weight": "",
            "_view_module_version": "1.2.0",
            "_model_module": "@jupyter-widgets/controls"
          }
        },
        "1ad2b7f161d140f4ab24855146d90d8e": {
          "model_module": "@jupyter-widgets/base",
          "model_name": "LayoutModel",
          "state": {
            "_view_name": "LayoutView",
            "grid_template_rows": null,
            "right": null,
            "justify_content": null,
            "_view_module": "@jupyter-widgets/base",
            "overflow": null,
            "_model_module_version": "1.2.0",
            "_view_count": null,
            "flex_flow": null,
            "width": null,
            "min_width": null,
            "border": null,
            "align_items": null,
            "bottom": null,
            "_model_module": "@jupyter-widgets/base",
            "top": null,
            "grid_column": null,
            "overflow_y": null,
            "overflow_x": null,
            "grid_auto_flow": null,
            "grid_area": null,
            "grid_template_columns": null,
            "flex": null,
            "_model_name": "LayoutModel",
            "justify_items": null,
            "grid_row": null,
            "max_height": null,
            "align_content": null,
            "visibility": null,
            "align_self": null,
            "height": null,
            "min_height": null,
            "padding": null,
            "grid_auto_rows": null,
            "grid_gap": null,
            "max_width": null,
            "order": null,
            "_view_module_version": "1.2.0",
            "grid_template_areas": null,
            "object_position": null,
            "object_fit": null,
            "grid_auto_columns": null,
            "margin": null,
            "display": null,
            "left": null
          }
        },
        "670eda7ae8ce4a0096a0ebb5b10b2941": {
          "model_module": "@jupyter-widgets/controls",
          "model_name": "ButtonStyleModel",
          "state": {
            "_view_name": "StyleView",
            "_model_name": "ButtonStyleModel",
            "_view_module": "@jupyter-widgets/base",
            "_model_module_version": "1.5.0",
            "_view_count": null,
            "button_color": null,
            "font_weight": "",
            "_view_module_version": "1.2.0",
            "_model_module": "@jupyter-widgets/controls"
          }
        },
        "d43118778f584cd3bff02fd1429ae9b4": {
          "model_module": "@jupyter-widgets/base",
          "model_name": "LayoutModel",
          "state": {
            "_view_name": "LayoutView",
            "grid_template_rows": null,
            "right": null,
            "justify_content": null,
            "_view_module": "@jupyter-widgets/base",
            "overflow": null,
            "_model_module_version": "1.2.0",
            "_view_count": null,
            "flex_flow": null,
            "width": null,
            "min_width": null,
            "border": null,
            "align_items": null,
            "bottom": null,
            "_model_module": "@jupyter-widgets/base",
            "top": null,
            "grid_column": null,
            "overflow_y": null,
            "overflow_x": null,
            "grid_auto_flow": null,
            "grid_area": null,
            "grid_template_columns": null,
            "flex": null,
            "_model_name": "LayoutModel",
            "justify_items": null,
            "grid_row": null,
            "max_height": null,
            "align_content": null,
            "visibility": null,
            "align_self": null,
            "height": null,
            "min_height": null,
            "padding": null,
            "grid_auto_rows": null,
            "grid_gap": null,
            "max_width": null,
            "order": null,
            "_view_module_version": "1.2.0",
            "grid_template_areas": null,
            "object_position": null,
            "object_fit": null,
            "grid_auto_columns": null,
            "margin": null,
            "display": null,
            "left": null
          }
        },
        "83d81343cedb470888b9d33458d78fff": {
          "model_module": "@jupyter-widgets/controls",
          "model_name": "DescriptionStyleModel",
          "state": {
            "_view_name": "StyleView",
            "_model_name": "DescriptionStyleModel",
            "description_width": "",
            "_view_module": "@jupyter-widgets/base",
            "_model_module_version": "1.5.0",
            "_view_count": null,
            "_view_module_version": "1.2.0",
            "_model_module": "@jupyter-widgets/controls"
          }
        },
        "260a7cca6c7a4b839e536e9017c1e4ec": {
          "model_module": "@jupyter-widgets/base",
          "model_name": "LayoutModel",
          "state": {
            "_view_name": "LayoutView",
            "grid_template_rows": null,
            "right": null,
            "justify_content": null,
            "_view_module": "@jupyter-widgets/base",
            "overflow": null,
            "_model_module_version": "1.2.0",
            "_view_count": null,
            "flex_flow": null,
            "width": null,
            "min_width": null,
            "border": null,
            "align_items": null,
            "bottom": null,
            "_model_module": "@jupyter-widgets/base",
            "top": null,
            "grid_column": null,
            "overflow_y": null,
            "overflow_x": null,
            "grid_auto_flow": null,
            "grid_area": null,
            "grid_template_columns": null,
            "flex": null,
            "_model_name": "LayoutModel",
            "justify_items": null,
            "grid_row": null,
            "max_height": null,
            "align_content": null,
            "visibility": null,
            "align_self": null,
            "height": null,
            "min_height": null,
            "padding": null,
            "grid_auto_rows": null,
            "grid_gap": null,
            "max_width": null,
            "order": null,
            "_view_module_version": "1.2.0",
            "grid_template_areas": null,
            "object_position": null,
            "object_fit": null,
            "grid_auto_columns": null,
            "margin": null,
            "display": null,
            "left": null
          }
        },
        "35fd876673524b65a1623069457cd546": {
          "model_module": "@jupyter-widgets/base",
          "model_name": "LayoutModel",
          "state": {
            "_view_name": "LayoutView",
            "grid_template_rows": null,
            "right": null,
            "justify_content": null,
            "_view_module": "@jupyter-widgets/base",
            "overflow": null,
            "_model_module_version": "1.2.0",
            "_view_count": null,
            "flex_flow": null,
            "width": null,
            "min_width": null,
            "border": null,
            "align_items": null,
            "bottom": null,
            "_model_module": "@jupyter-widgets/base",
            "top": null,
            "grid_column": null,
            "overflow_y": null,
            "overflow_x": null,
            "grid_auto_flow": null,
            "grid_area": null,
            "grid_template_columns": null,
            "flex": null,
            "_model_name": "LayoutModel",
            "justify_items": null,
            "grid_row": null,
            "max_height": null,
            "align_content": null,
            "visibility": null,
            "align_self": null,
            "height": null,
            "min_height": null,
            "padding": null,
            "grid_auto_rows": null,
            "grid_gap": null,
            "max_width": null,
            "order": null,
            "_view_module_version": "1.2.0",
            "grid_template_areas": null,
            "object_position": null,
            "object_fit": null,
            "grid_auto_columns": null,
            "margin": null,
            "display": null,
            "left": null
          }
        }
      }
    }
  },
  "cells": [
    {
      "cell_type": "markdown",
      "metadata": {
        "id": "view-in-github",
        "colab_type": "text"
      },
      "source": [
        "<a href=\"https://colab.research.google.com/github/linkyouhj/bearClassification/blob/master/ShoesClassification.ipynb\" target=\"_parent\"><img src=\"https://colab.research.google.com/assets/colab-badge.svg\" alt=\"Open In Colab\"/></a>"
      ]
    },
    {
      "cell_type": "code",
      "metadata": {
        "id": "b52KKbYgPlhk",
        "colab": {
          "base_uri": "https://localhost:8080/",
          "height": 290,
          "referenced_widgets": [
            "a38cf1b51bc841629bd62040f5590878",
            "02eabf281c4a43ebb4ae4a8e5506955c",
            "35d16226bda84023a0bb5dc25fe9ff85",
            "b6aa315253d445ed98381ae08ee27b4e",
            "d7b7e13b7ee941baba46186b4e0bb601",
            "14c51ce539fa4363b3753d466c56c334",
            "a4ac90d79ed542bd876d8ced0f7933a0",
            "b9f14549568d42478a09c2ad339047d4",
            "50a1e3e066124dd3a39b3854419748c5",
            "561dab6b9fc84e1aaa58a7e4b13f444e",
            "1ad2b7f161d140f4ab24855146d90d8e",
            "670eda7ae8ce4a0096a0ebb5b10b2941",
            "d43118778f584cd3bff02fd1429ae9b4",
            "83d81343cedb470888b9d33458d78fff",
            "260a7cca6c7a4b839e536e9017c1e4ec",
            "35fd876673524b65a1623069457cd546"
          ]
        },
        "outputId": "25a5dfa1-1350-4377-e1f4-493270f35939"
      },
      "source": [
        "from fastai.vision.all import*\n",
        "from fastai.vision.widgets import*\n",
        "\n",
        "path = Path()\n",
        "#path.ls(file_exts='.pkl')\n",
        "learn_inf=load_learner(path/'export.pkl',cpu=True)\n",
        "btn_upload = widgets.FileUpload()\n",
        "out_pl=widgets.Output()\n",
        "lbl_pred=widgets.Label()\n",
        "\n",
        "def on_click_classify(change):\n",
        "  lbl_pred.value=''\n",
        "  img=PILImage.create(btn_upload.data[-1])\n",
        "  out_pl.clear_output()\n",
        "  with out_pl: display(img.to_thumb(128,128))\n",
        "  pred,pred_idx,probs=learn_inf.predict(img)\n",
        "  lbl_pred.value=f'Prediction: {pred}; Probability: {probs[pred_idx]:.04f}'\n",
        "\n",
        "btn_run=widgets.Button(description='Classify')\n",
        "\n",
        "btn_run.on_click(on_click_classify)\n",
        "\n",
        "btn_upload=widgets.FileUpload()\n",
        "VBox([widgets.Label('Upload your shoes!'),\n",
        "      btn_upload,btn_run,out_pl,lbl_pred])"
      ],
      "execution_count": null,
      "outputs": [
        {
          "output_type": "stream",
          "text": [
            "Mounted at /gdrive\n"
          ],
          "name": "stdout"
        },
        {
          "output_type": "display_data",
          "data": {
            "application/vnd.jupyter.widget-view+json": {
              "model_id": "a38cf1b51bc841629bd62040f5590878",
              "version_minor": 0,
              "version_major": 2
            },
            "text/plain": [
              "VBox(children=(Label(value='Select your bear!'), FileUpload(value={}, description='Upload'), Button(descriptio…"
            ]
          },
          "metadata": {
            "tags": []
          }
        },
        {
          "output_type": "display_data",
          "data": {
            "text/html": [
              ""
            ],
            "text/plain": [
              "<IPython.core.display.HTML object>"
            ]
          },
          "metadata": {
            "tags": []
          }
        }
      ]
    }
  ]
}